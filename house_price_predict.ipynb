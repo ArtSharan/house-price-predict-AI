{
  "nbformat": 4,
  "nbformat_minor": 0,
  "metadata": {
    "colab": {
      "provenance": [],
      "authorship_tag": "ABX9TyN0QNPZWofevWQDr2HNo02e",
      "include_colab_link": true
    },
    "kernelspec": {
      "name": "python3",
      "display_name": "Python 3"
    },
    "language_info": {
      "name": "python"
    }
  },
  "cells": [
    {
      "cell_type": "markdown",
      "metadata": {
        "id": "view-in-github",
        "colab_type": "text"
      },
      "source": [
        "<a href=\"https://colab.research.google.com/github/ArtSharan/house-price-predict-AI/blob/main/house_price_predict.ipynb\" target=\"_parent\"><img src=\"https://colab.research.google.com/assets/colab-badge.svg\" alt=\"Open In Colab\"/></a>"
      ]
    },
    {
      "cell_type": "code",
      "execution_count": null,
      "metadata": {
        "colab": {
          "base_uri": "https://localhost:8080/",
          "height": 646
        },
        "id": "xoUGPFwY27FW",
        "outputId": "d128ae71-0560-44f5-db4c-cec8010a7268"
      },
      "outputs": [
        {
          "output_type": "stream",
          "name": "stdout",
          "text": [
            "Running Gradio in a Colab notebook requires sharing enabled. Automatically setting `share=True` (you can turn this off by setting `share=False` in `launch()` explicitly).\n",
            "\n",
            "Colab notebook detected. To show errors in colab notebook, set debug=True in launch()\n",
            "* Running on public URL: https://f96ad57adac3893707.gradio.live\n",
            "\n",
            "This share link expires in 72 hours. For free permanent hosting and GPU upgrades, run `gradio deploy` from the terminal in the working directory to deploy to Hugging Face Spaces (https://huggingface.co/spaces)\n"
          ]
        },
        {
          "output_type": "display_data",
          "data": {
            "text/plain": [
              "<IPython.core.display.HTML object>"
            ],
            "text/html": [
              "<div><iframe src=\"https://f96ad57adac3893707.gradio.live\" width=\"100%\" height=\"500\" allow=\"autoplay; camera; microphone; clipboard-read; clipboard-write;\" frameborder=\"0\" allowfullscreen></iframe></div>"
            ]
          },
          "metadata": {}
        },
        {
          "output_type": "execute_result",
          "data": {
            "text/plain": []
          },
          "metadata": {},
          "execution_count": 12
        }
      ],
      "source": [
        "\n",
        "import gradio as gr\n",
        "import numpy as np\n",
        "import pandas as pd\n",
        "from sklearn.linear_model import LinearRegression\n",
        "from sklearn.model_selection import train_test_split\n",
        "from sklearn.preprocessing import StandardScaler\n",
        "\n",
        "# Step 1: Generate Synthetic Data (features: size in sqft, number of rooms, and age of the house)\n",
        "data = {\n",
        "    'Size (sqft)': [1000, 1500, 2000, 2500, 3000, 3500, 4000, 4500, 5000, 5500],\n",
        "    'Number of Rooms': [2, 3, 3, 4, 4, 5, 5, 6, 6, 7],\n",
        "    'Age (years)': [10, 15, 20, 10, 5, 25, 15, 10, 30, 20],\n",
        "    'Price ($)': [200000, 250000, 300000, 350000, 400000, 450000, 500000, 550000, 600000, 650000]\n",
        "}\n",
        "\n",
        "df = pd.DataFrame(data)\n",
        "\n",
        "# Step 2: Feature Selection and Preprocessing\n",
        "X = df[['Size (sqft)', 'Number of Rooms', 'Age (years)']]\n",
        "y = df['Price ($)']\n",
        "\n",
        "# Splitting dataset into training and testing sets\n",
        "X_train, X_test, y_train, y_test = train_test_split(X, y, test_size=0.2, random_state=42)\n",
        "\n",
        "# Feature scaling (optional, but can improve model performance)\n",
        "scaler = StandardScaler()\n",
        "X_train_scaled = scaler.fit_transform(X_train)\n",
        "X_test_scaled = scaler.transform(X_test)\n",
        "\n",
        "# Step 3: Train the model\n",
        "model = LinearRegression()\n",
        "model.fit(X_train_scaled, y_train)\n",
        "\n",
        "# Step 4: Define the prediction function\n",
        "def predict_house_price(size, rooms, age):\n",
        "    # Scale the input features before prediction\n",
        "    scaled_input = scaler.transform([[size, rooms, age]])\n",
        "    prediction = model.predict(scaled_input)\n",
        "    return f\"Predicted House Price: ${prediction[0]:,.2f}\"\n",
        "\n",
        "# Step 5: Set up the Gradio interface\n",
        "interface = gr.Interface(\n",
        "    fn=predict_house_price,\n",
        "    inputs=[\n",
        "        gr.Number(label=\"Size (sqft)\", value=2000),\n",
        "        gr.Number(label=\"Number of Rooms\", value=3),\n",
        "        gr.Number(label=\"Age (years)\", value=10)\n",
        "    ],\n",
        "    outputs=\"text\",\n",
        "    live=True\n",
        ")\n",
        "\n",
        "# Launch the interface\n",
        "interface.launch()\n"
      ]
    }
  ]
}